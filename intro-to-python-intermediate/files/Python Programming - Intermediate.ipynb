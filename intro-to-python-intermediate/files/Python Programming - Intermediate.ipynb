{
 "cells": [
  {
   "cell_type": "markdown",
   "metadata": {},
   "source": [
    "# Opening a File"
   ]
  },
  {
   "cell_type": "code",
   "execution_count": 1,
   "metadata": {},
   "outputs": [
    {
     "name": "stdout",
     "output_type": "stream",
     "text": [
      "testfile.txt\n",
      "w\n"
     ]
    }
   ],
   "source": [
    "# Opening a file\n",
    "file = open(\"testfile.txt\",\"w\") \n",
    "print (file.name)\n",
    "print (file.mode)\n",
    "file.close()"
   ]
  },
  {
   "cell_type": "markdown",
   "metadata": {},
   "source": [
    "# Writing/Reading to/from a file\n",
    "\n"
   ]
  },
  {
   "cell_type": "code",
   "execution_count": 2,
   "metadata": {},
   "outputs": [
    {
     "name": "stdout",
     "output_type": "stream",
     "text": [
      "Hello World!\n"
     ]
    }
   ],
   "source": [
    "# Writing/Reading to/from a file\n",
    "file = open(\"testfile.txt\",\"w\") \n",
    "file.write(\"Hello World!\")\n",
    "file = open(\"testfile.txt\",\"r\") \n",
    "print (file.read())\n",
    "file.close()"
   ]
  },
  {
   "cell_type": "code",
   "execution_count": 3,
   "metadata": {},
   "outputs": [
    {
     "name": "stdout",
     "output_type": "stream",
     "text": [
      "Lorem Ipsum is simply dummy text of the printing and typesetting industry. \n",
      "\n"
     ]
    }
   ],
   "source": [
    "# Writing/Reading to/from a file\n",
    "file = open(\"testfile.txt\",\"w\") \n",
    "file.writelines(\"\"\"Lorem Ipsum is simply dummy text of the printing and typesetting industry. \n",
    "Lorem Ipsum has been the industry's standard dummy text ever since the 1500s.\"\"\")\n",
    "\n",
    "file = open(\"testfile.txt\",\"r\") \n",
    "print (file.readline())  #read a single line\n",
    "file.close()"
   ]
  },
  {
   "cell_type": "markdown",
   "metadata": {},
   "source": [
    "## Exercise"
   ]
  },
  {
   "cell_type": "code",
   "execution_count": 5,
   "metadata": {},
   "outputs": [
    {
     "name": "stdout",
     "output_type": "stream",
     "text": [
      "2\n"
     ]
    }
   ],
   "source": [
    "# Count the words\n",
    "def countWord(fileName, word):\n",
    "    file = open(fileName,\"r\") \n",
    "    count = 0;\n",
    "    line = file.readline()\n",
    "    while (line != \"\"):\n",
    "        words = line.split()\n",
    "        for i in words:\n",
    "            if i == word:\n",
    "                count = count + 1\n",
    "        line = file.readline()\n",
    "    file.close()            \n",
    "    return count\n",
    "\n",
    "# Create a file\n",
    "file = open(\"testfile.txt\",\"w\") \n",
    "file.write(\"\"\"Lorem Ipsum is simply dummy text of the printing and typesetting industry. \n",
    "Lorem Ipsum has been the industry's standard dummy text ever since the 1500s.\"\"\")\n",
    "\n",
    "print (countWord('testfile.txt', 'dummy'))"
   ]
  },
  {
   "cell_type": "markdown",
   "metadata": {},
   "source": [
    "# Functions"
   ]
  },
  {
   "cell_type": "markdown",
   "metadata": {},
   "source": [
    "#### A function is a group of statements that together perform a specific task.\n",
    "\n",
    "#### Functions are first-class objects in Python, meaning they have attributes and can be referenced and assigned to variables."
   ]
  },
  {
   "cell_type": "code",
   "execution_count": 97,
   "metadata": {},
   "outputs": [
    {
     "name": "stdout",
     "output_type": "stream",
     "text": [
      "[1, 2, 3]\n"
     ]
    }
   ],
   "source": [
    "t = 1,\n",
    "#print type(t)\n",
    "\n",
    "# Function to get sum of two numbers\n",
    "def add(num1, num2):\n",
    "    v = num1 + num2\n",
    "    return v\n",
    "\n",
    "def test_add():\n",
    "    assert(add(100, 100) == 200)\n",
    "    assert(add(100, -100) == 0)\n",
    "    print \"its working!\"\n",
    "\n",
    "print list([1,2,3])\n",
    "\n",
    "l = [1,2,3,4,5,6,7]"
   ]
  },
  {
   "cell_type": "code",
   "execution_count": 123,
   "metadata": {},
   "outputs": [
    {
     "data": {
      "text/plain": [
       "1"
      ]
     },
     "execution_count": 123,
     "metadata": {},
     "output_type": "execute_result"
    }
   ],
   "source": [
    "def double(x):\n",
    "   x = x * 2\n",
    "   return x\n",
    "\n",
    "#print double(10)\n",
    "\n",
    "def prime():\n",
    "    x = 2\n",
    "    while True:\n",
    "        numdiv = [1 for x in range()]"
   ]
  },
  {
   "cell_type": "code",
   "execution_count": 41,
   "metadata": {},
   "outputs": [
    {
     "name": "stdout",
     "output_type": "stream",
     "text": [
      "12100\n"
     ]
    }
   ],
   "source": [
    "# default value\n",
    "def addInt(num, what=5, square=False):\n",
    "    v = num + what\n",
    "    return v*v if square else v\n",
    "\n",
    "print addInt(100, square=True, what=10)"
   ]
  },
  {
   "cell_type": "code",
   "execution_count": 52,
   "metadata": {},
   "outputs": [
    {
     "name": "stdout",
     "output_type": "stream",
     "text": [
      "[1, 2, 3, 1, 2, 3, 1, 2, 3]\n"
     ]
    }
   ],
   "source": [
    "def sum_f(*num):\n",
    "    s = 0\n",
    "    for n in num:\n",
    "        s += n\n",
    "    return s\n",
    "\n",
    "sum_f(1, 2, 3, 4)"
   ]
  },
  {
   "cell_type": "code",
   "execution_count": 10,
   "metadata": {},
   "outputs": [
    {
     "name": "stdout",
     "output_type": "stream",
     "text": [
      "Institute Name: GreyAtom, Course: Full Stack Data Science, Duration: 3 months\n"
     ]
    }
   ],
   "source": [
    "# Key-value arguments\n",
    "def showDetails(name, course, duration = '3 months'):\n",
    "    print('Institute Name: '+ name + \", Course: \" + course + \", Duration: \" + duration)\n",
    "    \n",
    "showDetails(name ='GreyAtom', course ='Full Stack Data Science')"
   ]
  },
  {
   "cell_type": "code",
   "execution_count": 11,
   "metadata": {},
   "outputs": [
    {
     "name": "stdout",
     "output_type": "stream",
     "text": [
      "11\n"
     ]
    }
   ],
   "source": [
    "# Variable function\n",
    "def add(num1, num2):\n",
    "    return num1 + num2\n",
    "\n",
    "sum = add\n",
    "print (sum(5, 6))"
   ]
  },
  {
   "cell_type": "code",
   "execution_count": 63,
   "metadata": {},
   "outputs": [
    {
     "name": "stdout",
     "output_type": "stream",
     "text": [
      "101\n"
     ]
    }
   ],
   "source": [
    "# Nested Functions - function returning function\n",
    "def outer(a):\n",
    "    def inner(b):\n",
    "        return a + b + 5\n",
    "    return inner\n",
    "\n",
    "f = outer(20)\n",
    "\n",
    "def addInt(n):\n",
    "    def inner(x):\n",
    "        return x + n\n",
    "    return inner\n",
    "\n",
    "add1 = addInt(1)\n",
    "add2 = addInt(2)\n",
    "add100 = addInt(100)\n",
    "\n",
    "def fadd(adder, i):\n",
    "    return adder(i)\n",
    "\n",
    "print fadd(add1, 100)"
   ]
  },
  {
   "cell_type": "code",
   "execution_count": 78,
   "metadata": {},
   "outputs": [],
   "source": [
    "# anonymous function - lambda form\n",
    "# actual form\n",
    "import math\n",
    "\n",
    "f = lambda x: math.sqrt(x) if x > 0 else None\n",
    "\n",
    "def f2(x):\n",
    "    return math.sqrt(x) if x > 0 else None"
   ]
  },
  {
   "cell_type": "markdown",
   "metadata": {},
   "source": [
    "### Exercise"
   ]
  },
  {
   "cell_type": "code",
   "execution_count": 14,
   "metadata": {},
   "outputs": [
    {
     "name": "stdout",
     "output_type": "stream",
     "text": [
      "5\n"
     ]
    }
   ],
   "source": [
    "# Write a function to count all the ‘VOWELS’ in a given string.\n",
    "def numOfVowels(string):\n",
    "    string = string.lower()\n",
    "    vowels = ['a', 'e', 'i', 'o', 'u']\n",
    "    count = 0\n",
    "    for i in range(len(string)):\n",
    "        if(string[i] in vowels):\n",
    "            count += 1\n",
    "    return count\n",
    "\n",
    "print (numOfVowels(\"DataScience\"))"
   ]
  },
  {
   "cell_type": "code",
   "execution_count": 15,
   "metadata": {},
   "outputs": [
    {
     "name": "stdout",
     "output_type": "stream",
     "text": [
      "Enter Amount: \n",
      "2000000\n",
      "Tax amount is: 600000.0\n"
     ]
    }
   ],
   "source": [
    "# Calculate TAX amount\n",
    "# 0 - 250000       - 0%\n",
    "# 250001 - 500000  - 5%\n",
    "# 500001 - 1000000 - 20%\n",
    "# Above 1000000    - 30%\n",
    "def tax(amount):\n",
    "    if(amount < 250000):\n",
    "        return 0\n",
    "    elif(amount > 250000 and amount <= 500000):\n",
    "        return amount * 0.05\n",
    "    elif(amount > 500000 and amount <= 1000000):\n",
    "        return amount * 0.20\n",
    "    else:\n",
    "        return amount * 0.30\n",
    "    \n",
    "print ('Enter Amount: ')\n",
    "amount = float(input())\n",
    "print ('Tax amount is: '+ str(tax(amount)))"
   ]
  },
  {
   "cell_type": "markdown",
   "metadata": {},
   "source": [
    "## Higher order functions"
   ]
  },
  {
   "cell_type": "code",
   "execution_count": 126,
   "metadata": {},
   "outputs": [
    {
     "name": "stdout",
     "output_type": "stream",
     "text": [
      "[1, 4, 9, 16, 25]\n"
     ]
    }
   ],
   "source": [
    "# map higher order function\n",
    "# map/reduce/filter\n",
    "def square(number):\n",
    "    return number * number\n",
    "\n",
    "numbers = [1, 2, 3, 4, 5]\n",
    "\n",
    "numbers_square = map(lambda x: x * x, numbers)\n",
    "# apply the method on each value of numbers list\n",
    "print (numbers_square)"
   ]
  },
  {
   "cell_type": "code",
   "execution_count": 17,
   "metadata": {},
   "outputs": [
    {
     "name": "stdout",
     "output_type": "stream",
     "text": [
      "[1, 4, 9, 16, 25]\n"
     ]
    }
   ],
   "source": [
    "# map using lambda\n",
    "numbers = [1, 2, 3, 4, 5]\n",
    "nums = list(map(lambda x: x * x, numbers))\n",
    "print (nums)"
   ]
  },
  {
   "cell_type": "code",
   "execution_count": 142,
   "metadata": {},
   "outputs": [
    {
     "name": "stdout",
     "output_type": "stream",
     "text": [
      "[0, 1, 2, 3, 4, 5, 6, 7, 8, 9]\n",
      "xrange(100)\n"
     ]
    }
   ],
   "source": [
    "# filter higher order function\n",
    "def even(x):\n",
    "    return x % 2 == 0\n",
    "\n",
    "numbers = [1, 2, 3, 4, 5]\n",
    "\n",
    "numbers = [x for x in numbers if even(x)]\n",
    "numbers = filter(even, numbers)\n",
    "\n",
    "def f():\n",
    "    for i in range(100):\n",
    "        yield i*i\n",
    "\n",
    "print range(10)\n",
    "print xrange(100)"
   ]
  },
  {
   "cell_type": "code",
   "execution_count": 34,
   "metadata": {},
   "outputs": [
    {
     "name": "stdout",
     "output_type": "stream",
     "text": [
      "[2, 4, 6, 8, 10, 12, 14, 16, 18, 20, 22, 24]\n"
     ]
    }
   ],
   "source": [
    "# filter using lambda\n",
    "print(list(filter(lambda x: x % 2 == 0, range(2, 25))))"
   ]
  },
  {
   "cell_type": "code",
   "execution_count": 149,
   "metadata": {},
   "outputs": [
    {
     "data": {
      "text/plain": [
       "6"
      ]
     },
     "execution_count": 149,
     "metadata": {},
     "output_type": "execute_result"
    }
   ],
   "source": [
    "# reduce higher order function\n",
    "from functools import reduce\n",
    "\n",
    "def add(x, y):\n",
    "    return x + y\n",
    "\n",
    "l = [1,2,3,4,5]\n",
    "\n",
    "reduce(add, [1, 1.0])\n",
    "\n",
    "def f(x, y):\n",
    "    return x + 1 \n",
    "\n",
    "f(0, 1) -> 1\n",
    "f(1, 2) -> 2\n",
    "f(2, 3) -> 3\n",
    "\n",
    "reduce(f, [1,2,3,4,10,100], 0)"
   ]
  },
  {
   "cell_type": "code",
   "execution_count": 40,
   "metadata": {},
   "outputs": [
    {
     "data": {
      "text/plain": [
       "10"
      ]
     },
     "execution_count": 40,
     "metadata": {},
     "output_type": "execute_result"
    }
   ],
   "source": [
    "# reduce using lambda\n",
    "from functools import reduce\n",
    "reduce(lambda x,y: x + y, range(5))"
   ]
  },
  {
   "cell_type": "markdown",
   "metadata": {},
   "source": [
    "### Exercise"
   ]
  },
  {
   "cell_type": "code",
   "execution_count": 38,
   "metadata": {},
   "outputs": [
    {
     "name": "stdout",
     "output_type": "stream",
     "text": [
      "[1, 2, 3, 4, 5, 7, 11, 13, 17, 19, 23, 29, 31, 37, 41, 43, 47]\n"
     ]
    }
   ],
   "source": [
    "# Find all the prime numbers between 1 to 50\n",
    "def getPrime(num):\n",
    "    for i in range(2,num//2):\n",
    "        if(num % i) == 0:\n",
    "            return\n",
    "    return num    \n",
    "    \n",
    "print(list(filter(getPrime, range(50))))"
   ]
  },
  {
   "cell_type": "markdown",
   "metadata": {},
   "source": [
    "####  *args and **kwargs are mostly used in function definitions. *args and **kwargs allow you to pass a variable number of arguments to a function. \n"
   ]
  },
  {
   "cell_type": "code",
   "execution_count": 42,
   "metadata": {},
   "outputs": [
    {
     "name": "stdout",
     "output_type": "stream",
     "text": [
      "first normal arg: yasoob\n",
      "another arg through *argv : python\n",
      "another arg through *argv : eggs\n",
      "another arg through *argv : test\n"
     ]
    }
   ],
   "source": [
    "# *arg - use for variable length argument\n",
    "def test_var_args(f_arg, *argv):\n",
    "    print (\"first normal arg:\", f_arg)\n",
    "    for arg in argv:\n",
    "        print (\"another arg through *argv :\", arg)\n",
    "\n",
    "test_var_args('yasoob','python','eggs','test')"
   ]
  },
  {
   "cell_type": "code",
   "execution_count": 154,
   "metadata": {},
   "outputs": [
    {
     "name": "stdout",
     "output_type": "stream",
     "text": [
      "(1, 2, 3, 4, 5)\n",
      "{'a': 'first', 'c': 'third', 'b': 'second'}\n"
     ]
    }
   ],
   "source": [
    "# **kwargs - use for key value pair argument\n",
    "def greet_me(*args, **kwargs):\n",
    "    print args\n",
    "    print kwargs\n",
    "\n",
    "greet_me(1,2,3,4,5, c=\"third\", a=\"first\", b=\"second\")"
   ]
  },
  {
   "cell_type": "markdown",
   "metadata": {},
   "source": [
    "# Exception Handling"
   ]
  },
  {
   "cell_type": "markdown",
   "metadata": {},
   "source": [
    "#### An exception is an event, which occurs during the execution of a program that disrupts the normal flow of the program's instructions."
   ]
  },
  {
   "cell_type": "code",
   "execution_count": 46,
   "metadata": {},
   "outputs": [
    {
     "ename": "SyntaxError",
     "evalue": "invalid syntax (<ipython-input-46-1fabf3b2e8d9>, line 2)",
     "traceback": [
      "\u001b[0;36m  File \u001b[0;32m\"<ipython-input-46-1fabf3b2e8d9>\"\u001b[0;36m, line \u001b[0;32m2\u001b[0m\n\u001b[0;31m    code to be executed\u001b[0m\n\u001b[0m          ^\u001b[0m\n\u001b[0;31mSyntaxError\u001b[0m\u001b[0;31m:\u001b[0m invalid syntax\n"
     ],
     "output_type": "error"
    }
   ],
   "source": [
    "try:\n",
    "   code to be executed\n",
    "   ...\n",
    "except Exception-I:\n",
    "   code to run handle the Exception -I\n",
    "except Exception-II:\n",
    "   code to run handle the Exception -II\n",
    "   ...\n",
    "else:\n",
    "   If there is no exception then execute this block. \n",
    "finally:"
   ]
  },
  {
   "cell_type": "code",
   "execution_count": null,
   "metadata": {},
   "outputs": [],
   "source": [
    "try:\n",
    "    i = 1/0\n",
    "except ZeroDivisionError:\n",
    "    print \"Exception occured\"\n",
    "# division by 0\n",
    "#print(\"Enter a numerator: \")\n",
    "#numer = int(input())\n",
    "#print(\"Enter a denominator: \")\n",
    "#denom = int(input())\n",
    "#try:\n",
    "#    quotient = numer / denom\n",
    "#except ZeroDivisionError:\n",
    "#    print (\"denominator can't be 0\")\n",
    "#else:\n",
    "#    print(quotient)"
   ]
  },
  {
   "cell_type": "code",
   "execution_count": null,
   "metadata": {
    "collapsed": true
   },
   "outputs": [],
   "source": [
    "try:\n",
    "    i = 1/0\n",
    "except ZeroDivisionError:\n",
    "    print \"Exception occured\""
   ]
  },
  {
   "cell_type": "code",
   "execution_count": 49,
   "metadata": {},
   "outputs": [
    {
     "name": "stdout",
     "output_type": "stream",
     "text": [
      "file does't exist\n"
     ]
    }
   ],
   "source": [
    "# Open non existing file\n",
    "try:\n",
    "    file = open('dummy.txt', 'r')\n",
    "except:   # If exception is not known you can leave this blank                           \n",
    "    print (\"file does't exist\")"
   ]
  },
  {
   "cell_type": "code",
   "execution_count": 50,
   "metadata": {},
   "outputs": [
    {
     "name": "stdout",
     "output_type": "stream",
     "text": [
      "Enter a numerator: \n",
      "7\n",
      "Enter a denominator: \n",
      "0\n",
      "denominator can't be 0\n",
      "finally always execute\n"
     ]
    }
   ],
   "source": [
    "# division by 0\n",
    "print(\"Enter a numerator: \")\n",
    "numer = int(input())\n",
    "print(\"Enter a denominator: \")\n",
    "denom = int(input())\n",
    "try:\n",
    "    quotient = numer / denom\n",
    "except ZeroDivisionError:\n",
    "    print (\"denominator can't be 0\")\n",
    "finally:\n",
    "    print ('finally always execute')"
   ]
  },
  {
   "cell_type": "code",
   "execution_count": 51,
   "metadata": {
    "collapsed": true
   },
   "outputs": [],
   "source": [
    "class MyError(Exception):\n",
    "    def __init__(self, value):\n",
    "        self.value = value\n",
    "    def __str__(self):\n",
    "        return repr(self.value)"
   ]
  },
  {
   "cell_type": "code",
   "execution_count": 52,
   "metadata": {},
   "outputs": [
    {
     "name": "stdout",
     "output_type": "stream",
     "text": [
      "My exception occurred, value: My Exception Message\n"
     ]
    }
   ],
   "source": [
    "try:\n",
    "    raise MyError('My Exception Message')\n",
    "except MyError as e:\n",
    "    print ('My exception occurred, value:', e.value)"
   ]
  },
  {
   "cell_type": "markdown",
   "metadata": {},
   "source": [
    "# Module and Package"
   ]
  },
  {
   "cell_type": "markdown",
   "metadata": {},
   "source": [
    "#### A module is a file containing Python definitions and statements that allows you to logically group the related Python code."
   ]
  },
  {
   "cell_type": "code",
   "execution_count": 53,
   "metadata": {
    "collapsed": true
   },
   "outputs": [],
   "source": [
    "# Factorial module ...save it in fibo.py\n",
    "def factorial(num):\n",
    "    if num < 2:\n",
    "        return 1\n",
    "    else:\n",
    "        return num * factorial(num-1)"
   ]
  },
  {
   "cell_type": "code",
   "execution_count": 54,
   "metadata": {},
   "outputs": [
    {
     "name": "stdout",
     "output_type": "stream",
     "text": [
      "120\n"
     ]
    }
   ],
   "source": [
    "import fact\n",
    "print (fact.factorial(5))"
   ]
  },
  {
   "cell_type": "code",
   "execution_count": 55,
   "metadata": {
    "collapsed": true
   },
   "outputs": [],
   "source": [
    "# Importing Names from a Module Directly\n",
    "# caculator.py\n",
    "def add(a, b):\n",
    "    return a + b\n",
    "def sub(a, b):\n",
    "    return a - b\n",
    "def divide(a, b):\n",
    "    return a / b\n",
    "def multiply(a, b):\n",
    "    return a * b"
   ]
  },
  {
   "cell_type": "code",
   "execution_count": 56,
   "metadata": {},
   "outputs": [
    {
     "name": "stdout",
     "output_type": "stream",
     "text": [
      "7\n",
      "12\n"
     ]
    }
   ],
   "source": [
    "from calculator import add, multiply\n",
    "print (add(4, 3))\n",
    "print (multiply(4, 3))"
   ]
  },
  {
   "cell_type": "code",
   "execution_count": 57,
   "metadata": {},
   "outputs": [
    {
     "name": "stdout",
     "output_type": "stream",
     "text": [
      "7\n",
      "1\n"
     ]
    }
   ],
   "source": [
    "from calculator import *\n",
    "print (add(4, 3))\n",
    "print (sub(4, 3))"
   ]
  },
  {
   "cell_type": "code",
   "execution_count": 58,
   "metadata": {},
   "outputs": [
    {
     "data": {
      "text/plain": [
       "'/Users/sanketpalsule/anaconda/lib/python3.5/lib-dynload/math.so'"
      ]
     },
     "execution_count": 58,
     "metadata": {},
     "output_type": "execute_result"
    }
   ],
   "source": [
    "# find out where a module is located \n",
    "import math\n",
    "math.__file__"
   ]
  },
  {
   "cell_type": "code",
   "execution_count": 59,
   "metadata": {},
   "outputs": [
    {
     "name": "stdout",
     "output_type": "stream",
     "text": [
      "['__doc__', '__file__', '__loader__', '__name__', '__package__', '__spec__', 'acos', 'acosh', 'asin', 'asinh', 'atan', 'atan2', 'atanh', 'ceil', 'copysign', 'cos', 'cosh', 'degrees', 'e', 'erf', 'erfc', 'exp', 'expm1', 'fabs', 'factorial', 'floor', 'fmod', 'frexp', 'fsum', 'gamma', 'gcd', 'hypot', 'inf', 'isclose', 'isfinite', 'isinf', 'isnan', 'ldexp', 'lgamma', 'log', 'log10', 'log1p', 'log2', 'modf', 'nan', 'pi', 'pow', 'radians', 'sin', 'sinh', 'sqrt', 'tan', 'tanh', 'trunc']\n"
     ]
    }
   ],
   "source": [
    "# Content of a Module\n",
    "print (dir(math))"
   ]
  },
  {
   "cell_type": "markdown",
   "metadata": {},
   "source": [
    "# Regular Expressions"
   ]
  },
  {
   "cell_type": "markdown",
   "metadata": {},
   "source": [
    "#### Regular Expressions or regex are a tool for matching patterns in text."
   ]
  },
  {
   "cell_type": "code",
   "execution_count": 37,
   "metadata": {},
   "outputs": [
    {
     "name": "stdout",
     "output_type": "stream",
     "text": [
      "['999', '999']\n"
     ]
    }
   ],
   "source": [
    "# Regular Expressions\n",
    "import re\n",
    "\n",
    "exp = \"[9]{3}\"\n",
    "\n",
    "s = \"97272424999009999\"\n",
    "\n",
    "m = re.findall(exp, s)\n",
    "print m\n",
    "\n",
    "\n",
    "#pattern = re.compile(\"^[1-9][0-9]{5}$\")\n",
    "#match  = pattern.match(\"400064\")\n",
    "#print (match.group())"
   ]
  },
  {
   "cell_type": "code",
   "execution_count": 61,
   "metadata": {},
   "outputs": [
    {
     "name": "stdout",
     "output_type": "stream",
     "text": [
      "None\n"
     ]
    }
   ],
   "source": [
    "# Regular Expressions\n",
    "import re\n",
    "\n",
    "valid = re.compile(\"^[1-9][0-9]{5}$\")\n",
    "match  = valid.match(\"xxxxxx\")\n",
    "print (match)"
   ]
  },
  {
   "cell_type": "code",
   "execution_count": 62,
   "metadata": {},
   "outputs": [
    {
     "name": "stdout",
     "output_type": "stream",
     "text": [
      "None\n",
      "c\n"
     ]
    }
   ],
   "source": [
    "import re\n",
    "pattern = re.compile(\"c\")\n",
    "\n",
    "print (re.match(pattern, \"abcdef\"))   # No match\n",
    "print (re.search(pattern, \"abcdef\").group())   # Match"
   ]
  },
  {
   "cell_type": "code",
   "execution_count": 40,
   "metadata": {},
   "outputs": [
    {
     "name": "stdout",
     "output_type": "stream",
     "text": [
      "True\n",
      "False\n",
      "True\n"
     ]
    }
   ],
   "source": [
    "# Validate email\n",
    "import re\n",
    "\n",
    "def isValidEmail(email):\n",
    "    pattern = re.compile(r\"(^[a-zA-Z0-9_.+-]+@[a-zA-Z0-9-]+\\.[a-zA-Z0-9-.]+$)\")\n",
    "    if re.match(pattern, email):\n",
    "        return True\n",
    "    else:\n",
    "        return False\n",
    "\n",
    "r = \"[0-3]?[0-9]-[0-9]{2}-[0-9]{4}$\"  #12-01-1998 (1-31)\n",
    "\n",
    "print (isValidEmail('info@greyatom.co.in'))\n",
    "print (isValidEmail('info@greyatom'))"
   ]
  },
  {
   "cell_type": "markdown",
   "metadata": {},
   "source": [
    "# Object Oriented"
   ]
  },
  {
   "cell_type": "markdown",
   "metadata": {},
   "source": [
    "#### An object is a person or thing to which a specified action is directed."
   ]
  },
  {
   "cell_type": "code",
   "execution_count": 47,
   "metadata": {},
   "outputs": [
    {
     "name": "stdout",
     "output_type": "stream",
     "text": [
      "Deepak F 24\n"
     ]
    }
   ],
   "source": [
    "class Person(object):  \n",
    "    # Initializer\n",
    "   def __init__(self, name, sex, age):\n",
    "        self.name = name\n",
    "        self.sex = sex\n",
    "        self.age = age\n",
    "        \n",
    "   # toString method\n",
    "   def __str__(self):\n",
    "      return self.name + ' ' + self.sex + ' ' + str(self.age)\n",
    "\n",
    "   # methods\n",
    "   def changeName(self, name):\n",
    "       self.name = name\n",
    "        \n",
    "   # methods\n",
    "   def changeAge(self):\n",
    "      self.age = self.age + 1\n",
    "        \n",
    "person1 = Person('Jane Doe','F',23)\n",
    "#print person1.name, person1.sex, person1.age\n",
    "person1.name = \"Deepak\"\n",
    "#print person1.name, person1.sex, person1.age\n",
    "\n",
    "person1.changeAge()\n",
    "print person1\n",
    "\n",
    "\n",
    "# new object\n",
    "#person2 = Person('Bob Smith','M',55) # new object\n",
    "#print('Person 1: ' + str(person1))   # calling toString method\n",
    "#person1.changeAge()                  # calling method\n",
    "#print('Person 1: ' + str(person1))\n",
    "#person1.changeName('Jane Brown')     # calling method\n",
    "#print('Person 1: ' + str(person1))\n",
    "#print(person2)"
   ]
  },
  {
   "cell_type": "code",
   "execution_count": 65,
   "metadata": {},
   "outputs": [
    {
     "name": "stdout",
     "output_type": "stream",
     "text": [
      "John Jones, 10.0\n",
      "Gross pay: 400.0\n",
      "Jane Smith, 1200 salaried: True\n",
      "Gross pay: 1200\n",
      "Jim Brown, 20.0 salaried: False\n",
      "Gross pay: 800.0\n"
     ]
    }
   ],
   "source": [
    "# Inheritance\n",
    "class Employee(object):\n",
    "    def __init__(self, name, payRate):\n",
    "       self.name = name\n",
    "       self.payRate = payRate\n",
    "\n",
    "    def __str__(self):\n",
    "       return self.name + \", \" + str(self.payRate)\n",
    "\n",
    "    def pay(self, hoursWorked):\n",
    "       return self.payRate * hoursWorked\n",
    "\n",
    "# Manager IS-A Employee\n",
    "class Manager(Employee, DeputyEmployee):\n",
    "   def __init__(self, name, payRate, isSalaried):\n",
    "      Employee.__init__(self, name, payRate)\n",
    "      self.salaried = isSalaried\n",
    "\n",
    "   def __str__(self):\n",
    "      retStr = Employee.__str__(self)\n",
    "      retStr += \" salaried: \" + str(self.salaried)\n",
    "      return retStr\n",
    "    \n",
    "   # Override method\n",
    "   def pay(self, hoursWorked):\n",
    "      if self.salaried:\n",
    "         return self.payRate\n",
    "      else:\n",
    "         return super(Manager, self).pay(hoursWorked)\n",
    "\n",
    "e1 = Employee(\"John Jones\", 10.00)\n",
    "print(e1)\n",
    "print(\"Gross pay: \" + str(e1.pay(40)))\n",
    "m1 = Manager(\"Jane Smith\", 1200, True)\n",
    "print(m1)\n",
    "print(\"Gross pay: \" + str(m1.pay(40)))\n",
    "m2 = Manager(\"Jim Brown\", 20.00, False)\n",
    "print(m2)\n",
    "print(\"Gross pay: \" + str(m2.pay(40)))"
   ]
  },
  {
   "cell_type": "markdown",
   "metadata": {},
   "source": [
    "#### Initializers are functions that are automatically called when you create a new instance of a class."
   ]
  },
  {
   "cell_type": "code",
   "execution_count": 2,
   "metadata": {},
   "outputs": [
    {
     "name": "stdout",
     "output_type": "stream",
     "text": [
      "Constructor called...\n",
      "('Hello', 'Hello')\n"
     ]
    }
   ],
   "source": [
    "class Greeting:\n",
    "    def __init__(self, name):\n",
    "        print (\"Constructor called...\")\n",
    "        self.name = name\n",
    "    def sayHello(self):\n",
    "        print (\"Hello\", self.name)\n",
    "        \n",
    "x = Greeting(\"Hello\")\n",
    "x.sayHello()"
   ]
  },
  {
   "cell_type": "code",
   "execution_count": 68,
   "metadata": {},
   "outputs": [
    {
     "name": "stdout",
     "output_type": "stream",
     "text": [
      "Account type: Savings\n",
      "Account number: 123\n",
      "Balance: 0\n",
      "Account type: Savings\n",
      "Account number: 123\n",
      "Balance: 1500\n",
      "Account type: Savings\n",
      "Account number: 123\n",
      "Balance: 1000\n",
      "Account type: Current\n",
      "Account number: 456\n",
      "Balance: 0\n",
      "Account type: Current\n",
      "Account number: 456\n",
      "Balance: 1500\n",
      "Insufficient funds.\n",
      "Account type: Current\n",
      "Account number: 456\n",
      "Balance: 1500\n"
     ]
    }
   ],
   "source": [
    "# Exercise Account\n",
    "class Account(object):\n",
    "   balance = 0\n",
    "   def __init__(self, acctNumber):\n",
    "      self.acctNumber = acctNumber\n",
    "\n",
    "   def __str__(self):\n",
    "      return \"Account number: \" + str(self.acctNumber) + \"\\n\" + \\\n",
    "             \"Balance: \" + str(self.balance)\n",
    "\n",
    "   def deposit(self, amount):\n",
    "      self.balance += amount\n",
    "\n",
    "class Current(Account):\n",
    "   def __init__(self, acctNumber):\n",
    "      Account.__init__(self, acctNumber)\n",
    "\n",
    "   def __str__(self):\n",
    "      retStr = \"Account type: Current\\n\"\n",
    "      retStr += Account.__str__(self)\n",
    "      return retStr\n",
    "\n",
    "   def withdraw(self, amount):\n",
    "      if amount > self.balance or self.balance < 15000:\n",
    "         print(\"Insufficient funds.\")\n",
    "      else:\n",
    "         self.balance = self.balance - amount - (amount * 0.1)\n",
    "\n",
    "class Savings(Account):\n",
    "   def __init__(self, acctNumber):\n",
    "      Account.__init__(self, acctNumber)\n",
    "\n",
    "   def __str__(self):\n",
    "      retStr = \"Account type: Savings\\n\"\n",
    "      retStr += Account.__str__(self)\n",
    "      return retStr\n",
    "\n",
    "   def withdraw(self, amount):\n",
    "      if amount > self.balance or self.balance < 1000:\n",
    "         print(\"Insufficient funds.\")\n",
    "      else:\n",
    "         self.balance = self.balance - amount\n",
    "\n",
    "sa = Savings(\"123\")\n",
    "print(sa)\n",
    "sa.deposit(1500)\n",
    "print(sa)\n",
    "sa.withdraw(500)\n",
    "print(sa)\n",
    "\n",
    "ca = Current(\"456\")\n",
    "print(ca)\n",
    "ca.deposit(1500)\n",
    "print(ca)\n",
    "ca.withdraw(500)\n",
    "print(ca)"
   ]
  },
  {
   "cell_type": "markdown",
   "metadata": {},
   "source": [
    "# NumPy"
   ]
  },
  {
   "cell_type": "markdown",
   "metadata": {},
   "source": [
    "#### NumPy is the foundational package for mathematical computing in Python.\n"
   ]
  },
  {
   "cell_type": "code",
   "execution_count": 50,
   "metadata": {},
   "outputs": [
    {
     "name": "stdout",
     "output_type": "stream",
     "text": [
      "[1, 4, 9, 16, 25, 36, 49, 64, 81, 100]\n"
     ]
    }
   ],
   "source": [
    "# Square the number of list\n",
    "l = [1, 2, 3, 4, 5, 6, 7, 8, 9, 10]\n",
    "\n",
    "square_values = [x*x for x in list] \n",
    "print (square_values)"
   ]
  },
  {
   "cell_type": "code",
   "execution_count": 55,
   "metadata": {},
   "outputs": [
    {
     "name": "stdout",
     "output_type": "stream",
     "text": [
      "9\n"
     ]
    }
   ],
   "source": [
    "# Square the number of list using numpy\n",
    "import numpy as np\n",
    "\n",
    "na = np.array(l)\n",
    "\n",
    "print na[8]"
   ]
  },
  {
   "cell_type": "code",
   "execution_count": 59,
   "metadata": {},
   "outputs": [
    {
     "name": "stdout",
     "output_type": "stream",
     "text": [
      "[[ 5 10 15]\n",
      " [20 25 30]\n",
      " [35 40 45]]\n",
      "15\n"
     ]
    }
   ],
   "source": [
    "import numpy as np\n",
    "\n",
    "\n",
    "# We can create a matrix by directly converting a list of lists\n",
    "my_vector =  [[5, 10, 15], [20, 25, 30], [35, 40, 45]]\n",
    "\n",
    "matrix =  np.array(my_vector)\n",
    "\n",
    "print (matrix)\n",
    "print matrix[0][2]"
   ]
  },
  {
   "cell_type": "code",
   "execution_count": 62,
   "metadata": {},
   "outputs": [
    {
     "name": "stdout",
     "output_type": "stream",
     "text": [
      "[[1 2 3]\n",
      " [4 5 6]\n",
      " [7 8 9]]\n",
      "int32\n",
      "(3, 3)\n"
     ]
    }
   ],
   "source": [
    "import numpy as np\n",
    "my_matrix = [[1,2,3],[4,5,6],[7,8,9]]\n",
    "my_matrix\n",
    "a = np.array(my_matrix, dtype=np.int32)\n",
    "\n",
    "print (a)\n",
    "\n",
    "# Print out data type of array\n",
    "print (a.dtype)\n",
    "\n",
    "# Print out the shape of array, 3 column , 3 row\n",
    "print (a.shape)"
   ]
  },
  {
   "cell_type": "markdown",
   "metadata": {},
   "source": [
    "### Exercise"
   ]
  },
  {
   "cell_type": "code",
   "execution_count": null,
   "metadata": {
    "collapsed": true
   },
   "outputs": [],
   "source": [
    "# Create a vector from the list [10, 20, 30]. Assign the result to the variable vector. \n",
    "# Print the dtype, shape and strides."
   ]
  },
  {
   "cell_type": "code",
   "execution_count": 1,
   "metadata": {
    "collapsed": true
   },
   "outputs": [],
   "source": [
    "# Create a matrix from the list of lists [[5.3, 10.2, 15.1], [20.4, 25.3, 30.9], [35.4, 40.1, 45.6]].\n",
    "# Assign the result to the variable matrix. print the dtype, shape and strides."
   ]
  },
  {
   "cell_type": "markdown",
   "metadata": {},
   "source": [
    "## NumPy on a datset"
   ]
  },
  {
   "cell_type": "code",
   "execution_count": 64,
   "metadata": {},
   "outputs": [
    {
     "name": "stdout",
     "output_type": "stream",
     "text": [
      "float64\n",
      "[[             nan              nan              nan              nan\n",
      "               nan]\n",
      " [  1.98600000e+03              nan              nan              nan\n",
      "    0.00000000e+00]\n",
      " [  1.98600000e+03              nan              nan              nan\n",
      "    5.00000000e-01]\n",
      " [  1.98600000e+03              nan              nan              nan\n",
      "    1.62000000e+00]\n",
      " [  1.98500000e+03              nan              nan              nan\n",
      "    6.00000000e-01]\n",
      " [  1.98500000e+03              nan              nan              nan\n",
      "    5.00000000e-01]\n",
      " [  1.98500000e+03              nan              nan              nan\n",
      "    1.00000000e+00]\n",
      " [  1.98400000e+03              nan              nan              nan\n",
      "    8.00000000e-01]\n",
      " [  1.98400000e+03              nan              nan              nan\n",
      "               nan]\n",
      " [  1.98400000e+03              nan              nan              nan\n",
      "    2.50000000e+00]]\n"
     ]
    }
   ],
   "source": [
    "# read csv file\n",
    "import numpy\n",
    "world_milk = numpy.genfromtxt(\"world_milk.csv\", delimiter=\",\")\n",
    "print (world_milk.dtype)\n",
    "print (world_milk)"
   ]
  },
  {
   "cell_type": "code",
   "execution_count": 67,
   "metadata": {},
   "outputs": [
    {
     "name": "stdout",
     "output_type": "stream",
     "text": [
      "|S20\n",
      "1986\n"
     ]
    }
   ],
   "source": [
    "# read csv file\n",
    "import numpy\n",
    "world_milk = numpy.genfromtxt(\"world_milk.csv\", dtype='|S20', skip_header=1, delimiter=\",\")\n",
    "print (world_milk.dtype)\n",
    "print world_milk[0][0]"
   ]
  },
  {
   "cell_type": "code",
   "execution_count": 75,
   "metadata": {},
   "outputs": [
    {
     "name": "stdout",
     "output_type": "stream",
     "text": [
      "[0 1 2 3 4 5 6 7 8 9]\n"
     ]
    }
   ],
   "source": [
    "# arange method to create an array\n",
    "import numpy as np\n",
    "x = np.arange(0,10)\n",
    "print (x)"
   ]
  },
  {
   "cell_type": "code",
   "execution_count": 76,
   "metadata": {},
   "outputs": [
    {
     "name": "stdout",
     "output_type": "stream",
     "text": [
      "[ 0  2  4  6  8 10]\n"
     ]
    }
   ],
   "source": [
    "# Even number array\n",
    "import numpy as np\n",
    "x = np.arange(0,11,2)\n",
    "print (x)"
   ]
  },
  {
   "cell_type": "code",
   "execution_count": 69,
   "metadata": {},
   "outputs": [
    {
     "name": "stdout",
     "output_type": "stream",
     "text": [
      "[  0.    0.5   1.    1.5   2.    2.5   3.    3.5   4.    4.5   5.    5.5\n",
      "   6.    6.5   7.    7.5   8.    8.5   9.    9.5  10. ]\n",
      "float64\n"
     ]
    }
   ],
   "source": [
    "# float\n",
    "import numpy as np\n",
    "x = np.arange(0, 10.3, 0.5)\n",
    "\n",
    "print (x)\n",
    "print (x.dtype)"
   ]
  },
  {
   "cell_type": "code",
   "execution_count": 74,
   "metadata": {},
   "outputs": [
    {
     "name": "stdout",
     "output_type": "stream",
     "text": [
      "[1 1 1 1 1]\n"
     ]
    }
   ],
   "source": [
    "# array of 0\n",
    "x = np.zeros((2, 10))\n",
    "#print (x)\n",
    "\n",
    "# array of 1\n",
    "y = np.ones(5, dtype=np.int32)\n",
    "print (y)\n",
    "\n",
    "# a single dimension array of 1's\n",
    "##int_array = np.ones(4, dtype=np.int16 )    \n",
    "#print (int_array)\n",
    "\n",
    "# a multi dimention array of 1's , 3 rows, 4 columns\n",
    "#int_array = np.ones( (1,3,4), dtype=np.int16 )    \n",
    "#print (int_array)"
   ]
  },
  {
   "cell_type": "code",
   "execution_count": 75,
   "metadata": {},
   "outputs": [
    {
     "data": {
      "text/plain": [
       "array([  0.        ,   1.11111111,   2.22222222,   3.33333333,\n",
       "         4.44444444,   5.55555556,   6.66666667,   7.77777778,\n",
       "         8.88888889,  10.        ])"
      ]
     },
     "execution_count": 75,
     "metadata": {},
     "output_type": "execute_result"
    }
   ],
   "source": [
    "# divide into 3 interval from 0 to 10\n",
    "np.linspace(0, 10, 10)"
   ]
  },
  {
   "cell_type": "code",
   "execution_count": 80,
   "metadata": {},
   "outputs": [
    {
     "name": "stdout",
     "output_type": "stream",
     "text": [
      "[  1.           1.18367347   1.36734694   1.55102041   1.73469388\n",
      "   1.91836735   2.10204082   2.28571429   2.46938776   2.65306122\n",
      "   2.83673469   3.02040816   3.20408163   3.3877551    3.57142857\n",
      "   3.75510204   3.93877551   4.12244898   4.30612245   4.48979592\n",
      "   4.67346939   4.85714286   5.04081633   5.2244898    5.40816327\n",
      "   5.59183673   5.7755102    5.95918367   6.14285714   6.32653061\n",
      "   6.51020408   6.69387755   6.87755102   7.06122449   7.24489796\n",
      "   7.42857143   7.6122449    7.79591837   7.97959184   8.16326531\n",
      "   8.34693878   8.53061224   8.71428571   8.89795918   9.08163265\n",
      "   9.26530612   9.44897959   9.63265306   9.81632653  10.        ]\n"
     ]
    }
   ],
   "source": [
    "# 50 values between 1 and 10:\n",
    "print (np.linspace(1, 10))"
   ]
  },
  {
   "cell_type": "code",
   "execution_count": 81,
   "metadata": {},
   "outputs": [
    {
     "name": "stdout",
     "output_type": "stream",
     "text": [
      "[ 1.          2.28571429  3.57142857  4.85714286  6.14285714  7.42857143\n",
      "  8.71428571]\n"
     ]
    }
   ],
   "source": [
    "# excluding the endpoint:\n",
    "print (np.linspace(1, 10, 7, endpoint=False))"
   ]
  },
  {
   "cell_type": "code",
   "execution_count": 77,
   "metadata": {},
   "outputs": [
    {
     "name": "stdout",
     "output_type": "stream",
     "text": [
      "[[ 1.  0.  0.  0.]\n",
      " [ 0.  1.  0.  0.]\n",
      " [ 0.  0.  1.  0.]\n",
      " [ 0.  0.  0.  1.]]\n"
     ]
    }
   ],
   "source": [
    "# eye Creates an identity matrix\n",
    "#print help(np.eye)\n",
    "print (np.eye(4))"
   ]
  },
  {
   "cell_type": "code",
   "execution_count": 83,
   "metadata": {},
   "outputs": [
    {
     "name": "stdout",
     "output_type": "stream",
     "text": [
      "[ 1.29491705  1.93296658  1.04298388  1.53527823  1.47332039  1.61723926\n",
      "  1.92976796  1.56201089  1.66748805  1.72240512]\n"
     ]
    }
   ],
   "source": [
    "# 2 randon numbers\n",
    "print np.random.rand(10) + 1"
   ]
  },
  {
   "cell_type": "code",
   "execution_count": 84,
   "metadata": {},
   "outputs": [
    {
     "name": "stdout",
     "output_type": "stream",
     "text": [
      "[[ 0.92741547  0.2485501   0.17236587  0.87457535  0.21134786]\n",
      " [ 0.60456943  0.60568856  0.41006945  0.33424991  0.8688851 ]\n",
      " [ 0.85237166  0.42078439  0.90862088  0.28646721  0.28471083]\n",
      " [ 0.29814287  0.38129635  0.94470038  0.38195611  0.54816737]\n",
      " [ 0.97044668  0.01856429  0.63285698  0.64987577  0.96240688]]\n"
     ]
    }
   ],
   "source": [
    "# randon number array of 5 rows and 5 column\n",
    "print (np.random.rand(5,5))"
   ]
  },
  {
   "cell_type": "code",
   "execution_count": 85,
   "metadata": {},
   "outputs": [
    {
     "name": "stdout",
     "output_type": "stream",
     "text": [
      "[ 1 17 28 63  6 10  3 22 79 83]\n"
     ]
    }
   ],
   "source": [
    "# random integer between 1 to 100 both inclusive\n",
    "print np.random.randint(1, 100, 10)"
   ]
  },
  {
   "cell_type": "code",
   "execution_count": 86,
   "metadata": {},
   "outputs": [
    {
     "name": "stdout",
     "output_type": "stream",
     "text": [
      "[ 4 98 84 87 84 66  9 80 96 35]\n"
     ]
    }
   ],
   "source": [
    "# 10 integer array between 1 to 100 both inclusive\n",
    "print (np.random.randint(1,100,10))"
   ]
  },
  {
   "cell_type": "code",
   "execution_count": 88,
   "metadata": {},
   "outputs": [
    {
     "name": "stdout",
     "output_type": "stream",
     "text": [
      "[[ 1.99752717 -0.54450216 -0.69973659]\n",
      " [-1.89357669  0.51380989 -0.31643522]]\n"
     ]
    }
   ],
   "source": [
    "# standard normal distribution\n",
    "#print help(np.random.randn)\n",
    "print (np.random.randn(2, 3))"
   ]
  },
  {
   "cell_type": "code",
   "execution_count": 90,
   "metadata": {},
   "outputs": [
    {
     "name": "stdout",
     "output_type": "stream",
     "text": [
      "[0 1 2 3 4 5 6 7 8 9]\n",
      "5\n"
     ]
    },
    {
     "data": {
      "text/plain": [
       "array([1, 3, 5, 7])"
      ]
     },
     "execution_count": 90,
     "metadata": {},
     "output_type": "execute_result"
    }
   ],
   "source": [
    "# indexing one dimentional array\n",
    "import numpy as np\n",
    "arr = np.arange(10)\n",
    "print (arr)\n",
    "# get the 5th element\n",
    "print (arr[5])\n",
    "#Get values in a range\n",
    "arr[1:9:2]"
   ]
  },
  {
   "cell_type": "code",
   "execution_count": 91,
   "metadata": {},
   "outputs": [
    {
     "name": "stdout",
     "output_type": "stream",
     "text": [
      "[[1 2 3]\n",
      " [4 5 6]\n",
      " [7 8 9]]\n",
      "[4 5 6]\n",
      "9\n",
      "9\n"
     ]
    }
   ],
   "source": [
    "# indexing matrix array\n",
    "import numpy as np\n",
    "arr = np.array([[1,2,3],[4,5,6],[7,8,9]])\n",
    "print (arr)\n",
    "print (arr[1])    # select a row\n",
    "print (arr[2][2]) #[row], [column]\n",
    "print (arr[2,2])  # [row, column] \n",
    "\n",
    "print arr[x,y]"
   ]
  },
  {
   "cell_type": "markdown",
   "metadata": {},
   "source": [
    "### Exercise"
   ]
  },
  {
   "cell_type": "code",
   "execution_count": 90,
   "metadata": {},
   "outputs": [
    {
     "name": "stdout",
     "output_type": "stream",
     "text": [
      "b'0.5'\n"
     ]
    }
   ],
   "source": [
    "# Assign the amount of milk Uruguayans drank in other milk per capita in 1986 to uruguay_other_1986\n",
    "import numpy\n",
    "world_milk = numpy.genfromtxt(\"world_milk.csv\", dtype=\"|S20\", skip_header=1, delimiter=\",\")\n",
    "uruguay_other_1986 = world_milk[1, 4]\n",
    "print (uruguay_other_1986)"
   ]
  },
  {
   "cell_type": "code",
   "execution_count": 91,
   "metadata": {},
   "outputs": [
    {
     "name": "stdout",
     "output_type": "stream",
     "text": [
      "b'Switzerland'\n"
     ]
    }
   ],
   "source": [
    "# Assign the country in the third row to third_country. Country is the third column.\n",
    "import numpy\n",
    "world_milk = numpy.genfromtxt(\"world_milk.csv\", dtype=\"|S20\", skip_header=1, delimiter=\",\")\n",
    "third_country = world_milk[2, 2]\n",
    "print (third_country)"
   ]
  },
  {
   "cell_type": "markdown",
   "metadata": {},
   "source": [
    "## Array Slicing"
   ]
  },
  {
   "cell_type": "code",
   "execution_count": 92,
   "metadata": {},
   "outputs": [
    {
     "name": "stdout",
     "output_type": "stream",
     "text": [
      "[0 1 2 3 4 5 6 7 8 9]\n",
      "[0 1 2]\n",
      "[1 4 7]\n"
     ]
    }
   ],
   "source": [
    "# Slicing one dimensional array\n",
    "import numpy as np\n",
    "arr = np.arange(10)\n",
    "print (arr)\n",
    "print (arr[0:3])\n",
    "# start from first index and get every 3rd elemnt\n",
    "print (arr[1::3])"
   ]
  },
  {
   "cell_type": "code",
   "execution_count": 98,
   "metadata": {},
   "outputs": [
    {
     "name": "stdout",
     "output_type": "stream",
     "text": [
      "[[ 6  7  8  9 10]\n",
      " [11 12 13 14 15]]\n"
     ]
    }
   ],
   "source": [
    "# Slicing matrix\n",
    "import numpy as np\n",
    "arr = np.array([[1,2,3,4,5],[6,7,8,9,10],[11,12,13,14,15]])\n",
    "#print arr\n",
    "\n",
    "# 1st row to 2nd row , 1st column to 3rd column\n",
    "print arr[1:5:2, :]"
   ]
  },
  {
   "cell_type": "code",
   "execution_count": 94,
   "metadata": {},
   "outputs": [
    {
     "name": "stdout",
     "output_type": "stream",
     "text": [
      "[[ 2  3  4  5]\n",
      " [ 7  8  9 10]\n",
      " [12 13 14 15]]\n"
     ]
    }
   ],
   "source": [
    "# Slicing matrix\n",
    "import numpy as np\n",
    "arr = np.array([[1,2,3,4,5],[6,7,8,9,10],[11,12,13,14,15]])\n",
    "\n",
    "# 0th row to 2nd row , 1st column to last column\n",
    "print (arr[:3, 1:])"
   ]
  },
  {
   "cell_type": "code",
   "execution_count": 95,
   "metadata": {},
   "outputs": [
    {
     "name": "stdout",
     "output_type": "stream",
     "text": [
      "[[ 8 10]]\n"
     ]
    }
   ],
   "source": [
    "# Slicing matrix\n",
    "import numpy as np\n",
    "arr = np.array([[1,2,3,4,5],[6,7,8,9,10],[11,12,13,14,15]])\n",
    "\n",
    "# start from 1st row to every 2nd row, start from 2nd column to every 2nd column\n",
    "print (arr[1::2, 2::2])"
   ]
  },
  {
   "cell_type": "code",
   "execution_count": 110,
   "metadata": {},
   "outputs": [
    {
     "name": "stdout",
     "output_type": "stream",
     "text": [
      "[[1 2 3]\n",
      " [4 5 6]\n",
      " [7 8 9]]\n",
      "[[11 12  6]\n",
      " [14 15  9]\n",
      " [17 18 12]]\n"
     ]
    }
   ],
   "source": [
    "# Comparing array\n",
    "import numpy as np\n",
    "arr = np.arange(11)\n",
    "#print arr ** 2\n",
    "\n",
    "arr = np.array([[1,2,3],[4,5,6],[7,8,9]])\n",
    "print arr\n",
    "print arr + np.array([10, 10, 3])\n",
    "#print (arr == 10)"
   ]
  },
  {
   "cell_type": "code",
   "execution_count": 97,
   "metadata": {},
   "outputs": [
    {
     "name": "stdout",
     "output_type": "stream",
     "text": [
      "[ 0  1  2  3  4  5  6  7  8  9 10]\n",
      "[False False False False False False  True  True  True  True  True]\n"
     ]
    }
   ],
   "source": [
    "# Comparing array\n",
    "import numpy as np\n",
    "arr = np.arange(11)\n",
    "print (arr)\n",
    "print (arr > 5)"
   ]
  },
  {
   "cell_type": "code",
   "execution_count": 98,
   "metadata": {},
   "outputs": [
    {
     "name": "stdout",
     "output_type": "stream",
     "text": [
      "[[False False False]\n",
      " [False  True False]\n",
      " [False False False]]\n"
     ]
    }
   ],
   "source": [
    "# Comparing matrix\n",
    "import numpy as np\n",
    "arr = np.array([[1,2,3],[4,5,6],[7,8,9]])\n",
    "\n",
    "print (arr == 5)"
   ]
  },
  {
   "cell_type": "code",
   "execution_count": 113,
   "metadata": {},
   "outputs": [
    {
     "name": "stdout",
     "output_type": "stream",
     "text": [
      "[[False  True False]\n",
      " [False  True False]\n",
      " [False False False]]\n"
     ]
    }
   ],
   "source": [
    "# Comparing with multiple conditions\n",
    "import numpy as np\n",
    "arr = np.array([[1,2,3],[4,5,6],[7,8,9]])\n",
    "\n",
    "#print arr == 2\n",
    "#print arr == 5\n",
    "result = (arr == 2) | (arr == 5)\n",
    "print (result)"
   ]
  },
  {
   "cell_type": "code",
   "execution_count": 100,
   "metadata": {},
   "outputs": [
    {
     "name": "stdout",
     "output_type": "stream",
     "text": [
      "[ 5 10 15 20]\n",
      "[50 50 15 20]\n"
     ]
    }
   ],
   "source": [
    "# Replacing Values\n",
    "import numpy as np\n",
    "vector = np.array([5, 10, 15, 20])\n",
    "print (vector)\n",
    "equal_to_ten_or_five = (vector == 10) | (vector == 5)\n",
    "vector[equal_to_ten_or_five] = 50\n",
    "print (vector)"
   ]
  },
  {
   "cell_type": "code",
   "execution_count": 101,
   "metadata": {},
   "outputs": [
    {
     "name": "stdout",
     "output_type": "stream",
     "text": [
      "[ 1.  2.  3.]\n"
     ]
    }
   ],
   "source": [
    "# changing data type\n",
    "import numpy as np\n",
    "vector = np.array([\"1\", \"2\", \"3\"])\n",
    "vector = vector.astype(float)\n",
    "print (vector)"
   ]
  },
  {
   "cell_type": "markdown",
   "metadata": {},
   "source": [
    "### Exercise"
   ]
  },
  {
   "cell_type": "code",
   "execution_count": 102,
   "metadata": {},
   "outputs": [
    {
     "name": "stdout",
     "output_type": "stream",
     "text": [
      "[b'0' b'0.5' b'1.62' b'0.6' b'0.5' b'1.0' b'0.8' b'' b'2.5']\n"
     ]
    }
   ],
   "source": [
    "#Extract the fifth column from world_milk, and assign it to the variable milk_consumption.\n",
    "import numpy\n",
    "milk_consumption = numpy.genfromtxt(\"world_milk.csv\", dtype=\"|S20\", skip_header=1, delimiter=\",\")\n",
    "milk_consumption = world_milk[:, 4]\n",
    "print (milk_consumption)"
   ]
  },
  {
   "cell_type": "code",
   "execution_count": 3,
   "metadata": {},
   "outputs": [
    {
     "ename": "NameError",
     "evalue": "name 'world_milk' is not defined",
     "traceback": [
      "\u001b[0;31m---------------------------------------------------------------------------\u001b[0m",
      "\u001b[0;31mNameError\u001b[0m                                 Traceback (most recent call last)",
      "\u001b[0;32m<ipython-input-3-8a2d0d0c714c>\u001b[0m in \u001b[0;36m<module>\u001b[0;34m()\u001b[0m\n\u001b[1;32m      2\u001b[0m \u001b[0;32mimport\u001b[0m \u001b[0mnumpy\u001b[0m\u001b[0;34m\u001b[0m\u001b[0m\n\u001b[1;32m      3\u001b[0m \u001b[0mmilk_consumption\u001b[0m \u001b[0;34m=\u001b[0m \u001b[0mnumpy\u001b[0m\u001b[0;34m.\u001b[0m\u001b[0mgenfromtxt\u001b[0m\u001b[0;34m(\u001b[0m\u001b[0;34m\"world_milk.csv\"\u001b[0m\u001b[0;34m,\u001b[0m \u001b[0mdtype\u001b[0m\u001b[0;34m=\u001b[0m\u001b[0;34m\"|S20\"\u001b[0m\u001b[0;34m,\u001b[0m \u001b[0mskip_header\u001b[0m\u001b[0;34m=\u001b[0m\u001b[0;36m1\u001b[0m\u001b[0;34m,\u001b[0m \u001b[0mdelimiter\u001b[0m\u001b[0;34m=\u001b[0m\u001b[0;34m\",\"\u001b[0m\u001b[0;34m)\u001b[0m\u001b[0;34m\u001b[0m\u001b[0m\n\u001b[0;32m----> 4\u001b[0;31m \u001b[0mmilk_consumption\u001b[0m \u001b[0;34m=\u001b[0m \u001b[0mworld_milk\u001b[0m\u001b[0;34m[\u001b[0m\u001b[0;34m:\u001b[0m\u001b[0;34m,\u001b[0m \u001b[0;36m4\u001b[0m\u001b[0;34m]\u001b[0m\u001b[0;34m\u001b[0m\u001b[0m\n\u001b[0m\u001b[1;32m      5\u001b[0m \u001b[0mprint\u001b[0m \u001b[0;34m(\u001b[0m\u001b[0mmilk_consumption\u001b[0m\u001b[0;34m)\u001b[0m\u001b[0;34m\u001b[0m\u001b[0m\n\u001b[1;32m      6\u001b[0m \u001b[0mmilk_consumption_with_value\u001b[0m \u001b[0;34m=\u001b[0m \u001b[0mmilk_consumption\u001b[0m \u001b[0;34m==\u001b[0m\u001b[0;34m''\u001b[0m\u001b[0;34m\u001b[0m\u001b[0m\n",
      "\u001b[0;31mNameError\u001b[0m: name 'world_milk' is not defined"
     ],
     "output_type": "error"
    }
   ],
   "source": [
    "# Use the astype() method to convert milk_consumption to the float data type.\n",
    "import numpy\n",
    "milk_consumption = numpy.genfromtxt(\"world_milk.csv\", dtype=\"|S20\", skip_header=1, delimiter=\",\")\n",
    "milk_consumption = world_milk[:, 4]\n",
    "print (milk_consumption)\n",
    "milk_consumption_with_value = milk_consumption ==''\n",
    "milk_consumption[milk_consumption_with_value] = 0  # replace blank with 0print (milk_consumption)\n",
    "print (milk_consumption.astype(float))"
   ]
  },
  {
   "cell_type": "markdown",
   "metadata": {},
   "source": [
    "## Methods to Operate On Array"
   ]
  },
  {
   "cell_type": "code",
   "execution_count": 120,
   "metadata": {},
   "outputs": [
    {
     "name": "stdout",
     "output_type": "stream",
     "text": [
      "[[10 12 41]\n",
      " [17 49  2]\n",
      " [46  3 19]]\n",
      "[63 68 68]\n"
     ]
    }
   ],
   "source": [
    "# Array: sum(), mean()\n",
    "import numpy as np\n",
    "arr = np.array([[10, 12, 41], [17, 49,  2], [46,  3, 19]])\n",
    "\n",
    "print arr\n",
    "\n",
    "print arr.sum(axis=1)\n",
    "#print ('Sum: ', arr.sum())      # sum of array elements\n",
    "#print ('Mean: ', arr.mean())    # mean of an array"
   ]
  },
  {
   "cell_type": "code",
   "execution_count": 121,
   "metadata": {},
   "outputs": [
    {
     "name": "stdout",
     "output_type": "stream",
     "text": [
      "('Argmax: ', 4)\n",
      "('Argmin: ', 5)\n"
     ]
    }
   ],
   "source": [
    "# Array: max(), min(), argmax(), argmin()\n",
    "import numpy as np\n",
    "arr = np.array([10, 12, 41, 17, 49,  2, 46,  3, 19, 39])\n",
    "#print ('Max: ',arr.max())       # maximum element in array\n",
    "#print ('Min: ',arr.min())       # minimum element in array\n",
    "print ('Argmax: ',arr.argmax()) # index of maximum element\n",
    "print ('Argmin: ',arr.argmin()) # index of minimum element"
   ]
  },
  {
   "cell_type": "code",
   "execution_count": 106,
   "metadata": {},
   "outputs": [
    {
     "name": "stdout",
     "output_type": "stream",
     "text": [
      "[ 30  75 120]\n",
      "[60 75 90]\n",
      "[ 10.  25.  40.]\n",
      "0\n",
      "8\n"
     ]
    }
   ],
   "source": [
    "# Matrix: sum()\n",
    "import numpy as np\n",
    "matrix = np.array([\n",
    "                [5, 10, 15], \n",
    "                [20, 25, 30],\n",
    "                [35, 40, 45]\n",
    "             ])\n",
    "# 1 means row wise, 0 means column wise\n",
    "print (matrix.sum(axis=1)) \n",
    "print (matrix.sum(axis=0)) \n",
    "print (matrix.mean(axis=1)) \n",
    "print (matrix.argmin()) \n",
    "print (matrix.argmax())"
   ]
  },
  {
   "cell_type": "code",
   "execution_count": 11,
   "metadata": {},
   "outputs": [
    {
     "ename": "NameError",
     "evalue": "name 'world_milk' is not defined",
     "traceback": [
      "\u001b[0;31m---------------------------------------------------------------------------\u001b[0m",
      "\u001b[0;31mNameError\u001b[0m                                 Traceback (most recent call last)",
      "\u001b[0;32m<ipython-input-11-d03e4048463e>\u001b[0m in \u001b[0;36m<module>\u001b[0;34m()\u001b[0m\n\u001b[1;32m      3\u001b[0m \u001b[0;32mimport\u001b[0m \u001b[0mnumpy\u001b[0m\u001b[0;34m\u001b[0m\u001b[0m\n\u001b[1;32m      4\u001b[0m \u001b[0mmilk_consumption\u001b[0m \u001b[0;34m=\u001b[0m \u001b[0mnumpy\u001b[0m\u001b[0;34m.\u001b[0m\u001b[0mgenfromtxt\u001b[0m\u001b[0;34m(\u001b[0m\u001b[0;34m\"world_milk.csv\"\u001b[0m\u001b[0;34m,\u001b[0m \u001b[0mdtype\u001b[0m\u001b[0;34m=\u001b[0m\u001b[0;34m\"U75\"\u001b[0m\u001b[0;34m,\u001b[0m \u001b[0mskip_header\u001b[0m\u001b[0;34m=\u001b[0m\u001b[0;36m1\u001b[0m\u001b[0;34m,\u001b[0m \u001b[0mdelimiter\u001b[0m\u001b[0;34m=\u001b[0m\u001b[0;34m\",\"\u001b[0m\u001b[0;34m)\u001b[0m\u001b[0;34m\u001b[0m\u001b[0m\n\u001b[0;32m----> 5\u001b[0;31m \u001b[0mmilk_consumption\u001b[0m \u001b[0;34m=\u001b[0m \u001b[0mworld_milk\u001b[0m\u001b[0;34m[\u001b[0m\u001b[0;34m:\u001b[0m\u001b[0;34m,\u001b[0m \u001b[0;36m4\u001b[0m\u001b[0;34m]\u001b[0m\u001b[0;34m\u001b[0m\u001b[0m\n\u001b[0m\u001b[1;32m      6\u001b[0m \u001b[0mmilk_consumption_with_value\u001b[0m \u001b[0;34m=\u001b[0m \u001b[0mmilk_consumption\u001b[0m \u001b[0;34m!=\u001b[0m\u001b[0;34m''\u001b[0m\u001b[0;34m\u001b[0m\u001b[0m\n\u001b[1;32m      7\u001b[0m \u001b[0mmilk_consumption\u001b[0m \u001b[0;34m=\u001b[0m \u001b[0mmilk_consumption\u001b[0m\u001b[0;34m[\u001b[0m\u001b[0mmilk_consumption_with_value\u001b[0m\u001b[0;34m]\u001b[0m \u001b[0;31m# remove blank\u001b[0m\u001b[0;34m\u001b[0m\u001b[0m\n",
      "\u001b[0;31mNameError\u001b[0m: name 'world_milk' is not defined"
     ],
     "output_type": "error"
    }
   ],
   "source": [
    "#Use the sum() method to calculate the sum of the values in milk_consumption. Assign the result to total_milk.\n",
    "\n",
    "import numpy\n",
    "milk_consumption = numpy.genfromtxt(\"world_milk.csv\", dtype=\"U75\", skip_header=1, delimiter=\",\")\n",
    "milk_consumption = world_milk[:, 4]\n",
    "milk_consumption_with_value = milk_consumption !=''\n",
    "milk_consumption = milk_consumption[milk_consumption_with_value] # remove blank\n",
    "milk_consumption = milk_consumption.astype(float) # Convert to float\n",
    "total_milk = milk_consumption.sum()\n",
    "print (total_milk)"
   ]
  },
  {
   "cell_type": "code",
   "execution_count": 108,
   "metadata": {},
   "outputs": [
    {
     "data": {
      "text/plain": [
       "array([ 0.84147098,  0.90929743,  0.14112001])"
      ]
     },
     "execution_count": 108,
     "metadata": {},
     "output_type": "execute_result"
    }
   ],
   "source": [
    "# Vectorized Functions\n",
    "import numpy as np\n",
    "z = np.array([1, 2, 3])\n",
    "\n",
    "np.sin(z)"
   ]
  },
  {
   "cell_type": "code",
   "execution_count": 110,
   "metadata": {},
   "outputs": [
    {
     "name": "stdout",
     "output_type": "stream",
     "text": [
      "[-1.30708616 -2.44276251 -1.68911542 -0.23608978]\n",
      "[0 0 0 0]\n"
     ]
    }
   ],
   "source": [
    "# Vectorized where function\n",
    "import numpy as np\n",
    "x = np.random.randn(4)\n",
    "print (x)\n",
    "print (np.where(x > 0, 1, 0)) # if x >0 , inser 1 else insert 0"
   ]
  },
  {
   "cell_type": "code",
   "execution_count": 111,
   "metadata": {},
   "outputs": [
    {
     "name": "stdout",
     "output_type": "stream",
     "text": [
      "[-1.89781598 -1.00696307  2.43390324 -0.85995713]\n"
     ]
    },
    {
     "data": {
      "text/plain": [
       "array([0, 0, 1, 0])"
      ]
     },
     "execution_count": 111,
     "metadata": {},
     "output_type": "execute_result"
    }
   ],
   "source": [
    "# apply fuction on array with vectorized\n",
    "import numpy as np\n",
    "x = np.random.randn(4)\n",
    "print (x)\n",
    "def f(x): return 1 if x > 0 else 0\n",
    "\n",
    "f = np.vectorize(f)\n",
    "f(x)"
   ]
  }
 ],
 "metadata": {
  "anaconda-cloud": {},
  "kernelspec": {
   "display_name": "Python 2",
   "language": "python",
   "name": "python2"
  },
  "language_info": {
   "codemirror_mode": {
    "name": "ipython",
    "version": 2.0
   },
   "file_extension": ".py",
   "mimetype": "text/x-python",
   "name": "python",
   "nbconvert_exporter": "python",
   "pygments_lexer": "ipython2",
   "version": "2.7.10"
  }
 },
 "nbformat": 4,
 "nbformat_minor": 0
}